{
 "cells": [
  {
   "cell_type": "markdown",
   "metadata": {},
   "source": [
    "- Last cells consists function for image to text conversion\n",
    "- t2 and image1 are of plaintext\n",
    "- i2 is plain numbers\n",
    "- logoo is of logos\n",
    "- background is blurred\n"
   ]
  },
  {
   "cell_type": "code",
   "execution_count": 2,
   "metadata": {},
   "outputs": [],
   "source": [
    "import pytesseract as tess\n",
    "from PIL import Image\n",
    "import numpy as np\n",
    "import cv2\n",
    "from pytesseract import Output"
   ]
  },
  {
   "cell_type": "code",
   "execution_count": 3,
   "metadata": {},
   "outputs": [],
   "source": [
    "#tess.pytesseract.tesseract_cmd=r'C:\\Program Files\\Tesseract-OCR\\tesseract.exe'"
   ]
  },
  {
   "cell_type": "code",
   "execution_count": 4,
   "metadata": {},
   "outputs": [
    {
     "name": "stdout",
     "output_type": "stream",
     "text": [
      "This is a lot of 12 point text to test the\n",
      "ocr code and see if it works on all types\n",
      "of file format.\n",
      "\n",
      "The quick brown dog jumped over the\n",
      "lazy fox. The quick brown dog jumped\n",
      "over the lazy fox. The quick brown dog\n",
      "jumped over the lazy fox. The quick\n",
      "brown dog jumped over the lazy fox.\n",
      "\n"
     ]
    }
   ],
   "source": [
    "img = ('image1.png')\n",
    "text = tess.image_to_string(Image.open(img))\n",
    "print(text)"
   ]
  },
  {
   "cell_type": "code",
   "execution_count": 5,
   "metadata": {},
   "outputs": [
    {
     "name": "stdout",
     "output_type": "stream",
     "text": [
      "PROBLEM\n",
      "\n",
      "Now we are creating an OCR for handwritten\n",
      "Bengali text. The main problem arises due to\n",
      "the fact that we are doing it for handwritten\n",
      "text. So our sample set is very infinite. Also\n",
      "different samples have different\n",
      "characteristics. The handwriting samples are\n",
      "collected from different persons, hence it is\n",
      "very unlikely that they will follow a similar\n",
      "pattern.\n",
      "\n"
     ]
    }
   ],
   "source": [
    "image='th.jpg'\n",
    "t=tess.image_to_string(Image.open(image))\n",
    "print(t)"
   ]
  },
  {
   "cell_type": "code",
   "execution_count": 6,
   "metadata": {},
   "outputs": [],
   "source": [
    "myconfig = r'--psm 7 --oem 3' #for single word\n",
    "myconfig1 = r'--psm 11 --oem 3'#for finding as much text as possible"
   ]
  },
  {
   "cell_type": "code",
   "execution_count": 7,
   "metadata": {},
   "outputs": [
    {
     "data": {
      "text/plain": [
       "'SUZUKI\\n'"
      ]
     },
     "execution_count": 7,
     "metadata": {},
     "output_type": "execute_result"
    }
   ],
   "source": [
    "text = tess.image_to_string(Image.open(\"t2.jpg\"),config=myconfig)\n",
    "text"
   ]
  },
  {
   "cell_type": "code",
   "execution_count": 8,
   "metadata": {},
   "outputs": [
    {
     "data": {
      "text/plain": [
       "'1234567890\\n'"
      ]
     },
     "execution_count": 8,
     "metadata": {},
     "output_type": "execute_result"
    }
   ],
   "source": [
    "data = tess.image_to_string(Image.open('i2.jpg'),config=myconfig)\n",
    "data"
   ]
  },
  {
   "cell_type": "code",
   "execution_count": 9,
   "metadata": {},
   "outputs": [
    {
     "data": {
      "text/plain": [
       "-1"
      ]
     },
     "execution_count": 9,
     "metadata": {},
     "output_type": "execute_result"
    }
   ],
   "source": [
    "#marks data\n",
    "img=cv2.imread('logoo.webp')\n",
    "height,width,_ = img.shape\n",
    "text=tess.image_to_data(img,config=myconfig1,output_type=Output.DICT)\n",
    "boxes=tess.image_to_boxes(img,config=myconfig1)\n",
    "for box in boxes.splitlines():\n",
    "    box=box.split(' ')\n",
    "    img=cv2.rectangle(img,(int(box[1]),height-(int(box[2]))),(int(box[3]),height-int(box[4])),(0,255,0),1)\n",
    "cv2.imshow('Result',img)\n",
    "cv2.waitKey(0)"
   ]
  },
  {
   "cell_type": "code",
   "execution_count": 10,
   "metadata": {},
   "outputs": [
    {
     "name": "stdout",
     "output_type": "stream",
     "text": [
      "['', '', '', '', 'amazon', '', '', '', 'HE', 'Micrecte', '', '', '', 'on', 'REE', 'oo', '', '', '', '(Nasdaq', '', '', '', 'Goren', '', '', '', 'SIONIY)', '', '', '', 'VN', '', '', '', 'AMIEIOIND', '', '', '', 'PENETRATION', '', '', '', 'ERICSSON', '', '', '', 'BAINT-GOBAIN', '', '', '', 'Into', '', '', '', 'Garten', '', '', '', 'NNAdobe', '', '', '', 'cisco.', '', '', '', 'es', '', '', '', '(=', 'amiocs', '', '', '', 'a', 'Bea', '', '', '', 'Mi:', '', '', '', 'te', '', '', '', 'SOCIETE)', '', '', '', 'PEnmsui', '', '', '', 'Gal', '', '', '', 'mez', '', '', '', '(E>', '|', 'FAI', '', '', '', 'YOK', '', '', '', 'a', 'i', '', '', '', '|EIRALE!', '', '', '', 'aid)', '', '', '', '7', '', '', '', 'inet', '', '', '', 'CH', '', '', '', 'asianjyainis', '', '', '', 'GEMIDS,', '', '', '', 'aa.', '', '', '', 'ss', '', '', '', 'eClem', '', '', '', 'Pies', '', '', '', 'R=', '', '', '', 'o', '', '', '', '=OD0s', '', '', '', 'S1oRG)', '', '', '', 'hgs']\n"
     ]
    }
   ],
   "source": [
    "text=tess.image_to_data(img,config=myconfig1,output_type=Output.DICT)\n",
    "print(text['text'])"
   ]
  },
  {
   "cell_type": "markdown",
   "metadata": {},
   "source": [
    "- Function for changing image to text \n",
    "- pass filename as one argument and config as myconfig1 or myconfig\n",
    "- it returns text"
   ]
  },
  {
   "cell_type": "markdown",
   "metadata": {},
   "source": [
    "* OCR"
   ]
  },
  {
   "cell_type": "code",
   "execution_count": 11,
   "metadata": {},
   "outputs": [],
   "source": [
    "def imagetotext(file,config2):\n",
    "    img=cv2.imread(file)\n",
    "    height,width,_ = img.shape\n",
    "    text=tess.image_to_string(img)\n",
    "    boxes=tess.image_to_boxes(img,config=config2)\n",
    "    for box in boxes.splitlines():\n",
    "        box=box.split(' ')\n",
    "        img=cv2.rectangle(img,(int(box[1]),height-(int(box[2]))),(int(box[3]),height-int(box[4])),(0,255,0),1)\n",
    "        img=cv2.putText(img,box[0],(int(box[1]),height-int(box[2])+10),cv2.FONT_HERSHEY_COMPLEX_SMALL,1,(50,50,255),1)\n",
    "    cv2.imshow('Result',img)\n",
    "    cv2.waitKey(0)\n",
    "    return text"
   ]
  },
  {
   "cell_type": "code",
   "execution_count": 12,
   "metadata": {},
   "outputs": [],
   "source": [
    "#select myconfig1 for finding as much text as possible\n",
    "#select myconfig if single word\n",
    "a=imagetotext('background.jpg',myconfig1)"
   ]
  },
  {
   "cell_type": "code",
   "execution_count": 13,
   "metadata": {},
   "outputs": [
    {
     "data": {
      "text/plain": [
       "'Tesseract Will\\nFail With Noisy\\nBackgrounds\\n'"
      ]
     },
     "execution_count": 13,
     "metadata": {},
     "output_type": "execute_result"
    }
   ],
   "source": [
    "a"
   ]
  },
  {
   "cell_type": "markdown",
   "metadata": {},
   "source": [
    "* for just simple text conversion of images with only plain paragraph use this function\n",
    "  "
   ]
  },
  {
   "cell_type": "code",
   "execution_count": 14,
   "metadata": {},
   "outputs": [],
   "source": [
    "def plaintext(file):\n",
    "    t=tess.image_to_string(Image.open(file))\n",
    "    print(t)"
   ]
  },
  {
   "cell_type": "code",
   "execution_count": 15,
   "metadata": {},
   "outputs": [
    {
     "name": "stdout",
     "output_type": "stream",
     "text": [
      "PROBLEM\n",
      "\n",
      "Now we are creating an OCR for handwritten\n",
      "Bengali text. The main problem arises due to\n",
      "the fact that we are doing it for handwritten\n",
      "text. So our sample set is very infinite. Also\n",
      "different samples have different\n",
      "characteristics. The handwriting samples are\n",
      "collected from different persons, hence it is\n",
      "very unlikely that they will follow a similar\n",
      "pattern.\n",
      "\n"
     ]
    }
   ],
   "source": [
    "plaintext('th.jpg')"
   ]
  },
  {
   "cell_type": "markdown",
   "metadata": {},
   "source": [
    "- Detecting words"
   ]
  },
  {
   "cell_type": "code",
   "execution_count": 16,
   "metadata": {},
   "outputs": [],
   "source": [
    "def words(files):\n",
    "    file=cv2.imread(files)\n",
    "    h,w,_=file.shape\n",
    "    boxes=tess.image_to_data(file)\n",
    "    for x,b in enumerate(boxes.splitlines()):\n",
    "        if x!= 0:\n",
    "            b=b.split()\n",
    "            #print(b)\n",
    "            if len(b) == 12:\n",
    "                x,y,w,h=int(b[6]),int(b[7]),int(b[8]),int(b[9])\n",
    "                cv2.rectangle(file,(x,y),(w+x,h+y),(0,0,255),3)\n",
    "                cv2.putText(file,b[11],(x,y),cv2.FONT_HERSHEY_COMPLEX_SMALL,1,(0,0,0),2)\n",
    "    cv2.imshow('Result',file)\n",
    "    cv2.waitKey(0)"
   ]
  },
  {
   "cell_type": "code",
   "execution_count": 17,
   "metadata": {},
   "outputs": [],
   "source": [
    "words('logoo.webp')"
   ]
  },
  {
   "cell_type": "markdown",
   "metadata": {},
   "source": [
    "- Detecting only numbers"
   ]
  },
  {
   "cell_type": "code",
   "execution_count": 18,
   "metadata": {},
   "outputs": [],
   "source": [
    "def digits(files):\n",
    "    file=cv2.imread(files)\n",
    "    h,w,_=file.shape\n",
    "    configd=r'--psm 6 --oem 3 outputbase digits'\n",
    "    boxes=tess.image_to_data(file,config=configd)\n",
    "    for x,b in enumerate(boxes.splitlines()):\n",
    "        if x!= 0:\n",
    "            b=b.split()\n",
    "            #print(b)\n",
    "            if len(b) == 12:\n",
    "                x,y,w,h=int(b[6]),int(b[7]),int(b[8]),int(b[9])\n",
    "                cv2.rectangle(file,(x,y),(w+x,h+y),(0,0,255),3)\n",
    "                cv2.putText(file,b[11],(x,y),cv2.FONT_HERSHEY_COMPLEX_SMALL,1,(0,0,0),2)\n",
    "    cv2.imshow('Result',file)\n",
    "    cv2.waitKey(0)"
   ]
  },
  {
   "cell_type": "code",
   "execution_count": 19,
   "metadata": {},
   "outputs": [],
   "source": [
    "digits('i2.jpg')"
   ]
  },
  {
   "cell_type": "code",
   "execution_count": null,
   "metadata": {},
   "outputs": [],
   "source": [
    "  "
   ]
  }
 ],
 "metadata": {
  "kernelspec": {
   "display_name": "Python 3.10.4 64-bit",
   "language": "python",
   "name": "python3"
  },
  "language_info": {
   "codemirror_mode": {
    "name": "ipython",
    "version": 3
   },
   "file_extension": ".py",
   "mimetype": "text/x-python",
   "name": "python",
   "nbconvert_exporter": "python",
   "pygments_lexer": "ipython3",
   "version": "3.10.4"
  },
  "orig_nbformat": 4,
  "vscode": {
   "interpreter": {
    "hash": "369f2c481f4da34e4445cda3fffd2e751bd1c4d706f27375911949ba6bb62e1c"
   }
  }
 },
 "nbformat": 4,
 "nbformat_minor": 2
}
